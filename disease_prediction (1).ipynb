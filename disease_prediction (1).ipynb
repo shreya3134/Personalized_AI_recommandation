{
 "cells": [
  {
   "cell_type": "code",
   "execution_count": 1,
   "id": "5ba32de2-4e67-46e7-9d64-8ce94a6389a7",
   "metadata": {},
   "outputs": [
    {
     "name": "stdout",
     "output_type": "stream",
     "text": [
      "Saved as 'final_filled_10_symptoms.csv'\n"
     ]
    }
   ],
   "source": [
    "import pandas as pd\n",
    "\n",
    "# Load your dataset\n",
    "df = pd.read_csv(\"filled_dataset.csv\")\n",
    "\n",
    "# Replace '0' strings and actual NaNs with None\n",
    "df.replace('0', pd.NA, inplace=True)\n",
    "df.fillna(value=pd.NA, inplace=True)\n",
    "\n",
    "# Build disease-to-symptom set mapping\n",
    "disease_symptom_map = df.groupby('Disease').agg(lambda x: set(x.dropna())).apply(lambda row: set().union(*row), axis=1).to_dict()\n",
    "\n",
    "# Clean symptom name\n",
    "def clean_symptom(symptom):\n",
    "    if pd.isna(symptom):\n",
    "        return None\n",
    "    return str(symptom).strip().lower().replace('_', ' ')\n",
    "\n",
    "# Function to replace missing symptoms and ensure 10 unique ones\n",
    "def replace_and_extend(row):\n",
    "    disease = row['Disease']\n",
    "    symptoms = row.drop('Disease').tolist()\n",
    "    \n",
    "    # Clean existing symptoms\n",
    "    known = [clean_symptom(s) for s in symptoms if pd.notna(s)]\n",
    "    unique_known = list(dict.fromkeys(known))  # Preserve order, remove duplicates\n",
    "    \n",
    "    # Find extra symptoms from disease pool\n",
    "    available = list(disease_symptom_map[disease] - set(unique_known))\n",
    "    extra = [clean_symptom(s) for s in available if clean_symptom(s) not in unique_known]\n",
    "    \n",
    "    # Fill to reach 10\n",
    "    filled = unique_known + extra[:10 - len(unique_known)]\n",
    "    filled += [None] * (10 - len(filled))\n",
    "    \n",
    "    return pd.Series([disease] + filled)\n",
    "\n",
    "# Apply to each row\n",
    "df_filled = df.apply(replace_and_extend, axis=1)\n",
    "\n",
    "# Rename columns\n",
    "df_filled.columns = ['Disease'] + [f'Symptom_{i}' for i in range(1, 11)]\n",
    "\n",
    "# Save the result\n",
    "df_filled.to_csv(\"final_filled_10_symptoms.csv\", index=False)\n",
    "print(\"Saved as 'final_filled_10_symptoms.csv'\")"
   ]
  },
  {
   "cell_type": "code",
   "execution_count": 4,
   "id": "3469cda9-4c2d-4658-b33e-f14c341dc6b5",
   "metadata": {},
   "outputs": [
    {
     "name": "stdout",
     "output_type": "stream",
     "text": [
      "Accuracy: 99.70%\n"
     ]
    }
   ],
   "source": [
    "import pandas as pd\n",
    "from sklearn.impute import SimpleImputer\n",
    "from sklearn.preprocessing import LabelEncoder\n",
    "from sklearn.model_selection import train_test_split\n",
    "from sklearn.ensemble import RandomForestClassifier\n",
    "from sklearn.metrics import accuracy_score\n",
    "\n",
    "# Step 1: Load the dataset\n",
    "df = pd.read_csv('final_filled_10_symptoms.csv')  # Replace with your actual file path\n",
    "\n",
    "# Step 2: Drop columns with all NaN values\n",
    "df = df.dropna(axis=1, how='all')\n",
    "\n",
    "# Step 3: Fill missing values with the most frequent value in each column\n",
    "imputer = SimpleImputer(strategy='most_frequent')\n",
    "df_imputed = imputer.fit_transform(df)\n",
    "df_cleaned = pd.DataFrame(df_imputed, columns=df.columns)\n",
    "\n",
    "# Step 4: Encode the target column (assumed name 'Disease')\n",
    "label_encoder = LabelEncoder()\n",
    "df_cleaned['Disease'] = label_encoder.fit_transform(df_cleaned['Disease'])\n",
    "\n",
    "# Step 5: Encode the symptom columns (Label Encoding used here)\n",
    "symptom_cols = ['Symptom_1', 'Symptom_2', 'Symptom_3', 'Symptom_4', 'Symptom_5', 'Symptom_6']\n",
    "symptom_encoders = {}\n",
    "\n",
    "for col in symptom_cols:\n",
    "    le = LabelEncoder()\n",
    "    df_cleaned[col] = le.fit_transform(df_cleaned[col])\n",
    "    symptom_encoders[col] = le  # Save encoder for prediction use later\n",
    "\n",
    "# Step 6: Define features and labels\n",
    "X = df_cleaned[symptom_cols]\n",
    "y = df_cleaned['Disease']\n",
    "\n",
    "# Step 7: Split data into training and testing sets\n",
    "X_train, X_test, y_train, y_test = train_test_split(X, y, test_size=0.2, random_state=42)\n",
    "\n",
    "# Step 8: Train a Random Forest Classifier\n",
    "model = RandomForestClassifier(n_estimators=100, random_state=42)\n",
    "model.fit(X_train, y_train)\n",
    "\n",
    "# Step 9: Predict and evaluate the model\n",
    "y_pred = model.predict(X_test)\n",
    "accuracy = accuracy_score(y_test, y_pred)\n",
    "print(f\"Accuracy: {accuracy * 100:.2f}%\")\n"
   ]
  },
  {
   "cell_type": "code",
   "execution_count": 5,
   "id": "f4547d8f-e21b-4318-ae13-0367ef797f42",
   "metadata": {},
   "outputs": [
    {
     "name": "stdout",
     "output_type": "stream",
     "text": [
      "Predicted Disease: Hypoglycemia\n"
     ]
    },
    {
     "name": "stderr",
     "output_type": "stream",
     "text": [
      "C:\\Users\\swapnil\\anaconda3\\Lib\\site-packages\\sklearn\\base.py:439: UserWarning: X does not have valid feature names, but RandomForestClassifier was fitted with feature names\n",
      "  warnings.warn(\n"
     ]
    }
   ],
   "source": [
    "# Example new input symptoms\n",
    "new_input = {\n",
    "    'Symptom_1': 'vomiting',\n",
    "    'Symptom_2': 'fatigue',\n",
    "    'Symptom_3': 'high fever',\n",
    "    'Symptom_4': 'headache',\n",
    "    'Symptom_5': 'nausea',\n",
    "    'Symptom_6': 'loss of appetite'\n",
    "}\n",
    "\n",
    "# Encode the input using saved LabelEncoders\n",
    "encoded_input = []\n",
    "\n",
    "for col in symptom_cols:\n",
    "    value = new_input[col]\n",
    "    if value in symptom_encoders[col].classes_:\n",
    "        encoded_value = symptom_encoders[col].transform([value])[0]\n",
    "    else:\n",
    "        print(f\"Warning: '{value}' not seen during training. Using 0 as default.\")\n",
    "        encoded_value = 0  # or handle differently\n",
    "    encoded_input.append(encoded_value)\n",
    "\n",
    "# Convert to 2D array for prediction\n",
    "import numpy as np\n",
    "encoded_input = np.array(encoded_input).reshape(1, -1)\n",
    "\n",
    "# Predict the disease\n",
    "predicted_label = model.predict(encoded_input)[0]\n",
    "predicted_disease = label_encoder.inverse_transform([predicted_label])[0]\n",
    "\n",
    "print(f\"Predicted Disease: {predicted_disease}\")\n"
   ]
  },
  {
   "cell_type": "code",
   "execution_count": 6,
   "id": "df1d5d5c-858c-484c-b081-f8bbd97c325b",
   "metadata": {},
   "outputs": [
    {
     "name": "stdout",
     "output_type": "stream",
     "text": [
      "Please enter six symptoms (exactly as they appeared in the dataset).\n"
     ]
    },
    {
     "name": "stdin",
     "output_type": "stream",
     "text": [
      "Enter Symptom_1:  vomiting\n",
      "Enter Symptom_2:  fatigue\n",
      "Enter Symptom_3:  high fever\n",
      "Enter Symptom_4:  headache\n",
      "Enter Symptom_5:  nausea\n",
      "Enter Symptom_6:  loss of appetite\n"
     ]
    },
    {
     "name": "stdout",
     "output_type": "stream",
     "text": [
      "\n",
      "🩺 Predicted Disease: Hypoglycemia\n"
     ]
    },
    {
     "name": "stderr",
     "output_type": "stream",
     "text": [
      "C:\\Users\\swapnil\\anaconda3\\Lib\\site-packages\\sklearn\\base.py:439: UserWarning: X does not have valid feature names, but RandomForestClassifier was fitted with feature names\n",
      "  warnings.warn(\n"
     ]
    }
   ],
   "source": [
    "# User-friendly command-line interface\n",
    "print(\"Please enter six symptoms (exactly as they appeared in the dataset).\")\n",
    "\n",
    "user_input = {}\n",
    "for i in range(1, 7):\n",
    "    symptom = input(f\"Enter Symptom_{i}: \").strip().lower()\n",
    "    user_input[f'Symptom_{i}'] = symptom\n",
    "\n",
    "# Encode user input\n",
    "encoded_input = []\n",
    "for col in symptom_cols:\n",
    "    value = user_input[col]\n",
    "    classes = symptom_encoders[col].classes_\n",
    "    if value in classes:\n",
    "        encoded_value = symptom_encoders[col].transform([value])[0]\n",
    "    else:\n",
    "        print(f\"Warning: '{value}' not seen during training. Using default (0).\")\n",
    "        encoded_value = 0\n",
    "    encoded_input.append(encoded_value)\n",
    "\n",
    "# Convert to 2D array and predict\n",
    "encoded_input = np.array(encoded_input).reshape(1, -1)\n",
    "predicted_label = model.predict(encoded_input)[0]\n",
    "predicted_disease = label_encoder.inverse_transform([predicted_label])[0]\n",
    "\n",
    "print(f\"\\n🩺 Predicted Disease: {predicted_disease}\")\n"
   ]
  },
  {
   "cell_type": "code",
   "execution_count": 7,
   "id": "de2d1a84-8ce9-4ea1-9b84-302b496130cd",
   "metadata": {},
   "outputs": [
    {
     "name": "stderr",
     "output_type": "stream",
     "text": [
      "C:\\Users\\swapnil\\anaconda3\\Lib\\site-packages\\sklearn\\base.py:439: UserWarning: X does not have valid feature names, but RandomForestClassifier was fitted with feature names\n",
      "  warnings.warn(\n"
     ]
    }
   ],
   "source": [
    "import tkinter as tk\n",
    "from tkinter import ttk, messagebox\n",
    "import numpy as np\n",
    "\n",
    "# Create the main window\n",
    "root = tk.Tk()\n",
    "root.title(\"Disease Predictor from Symptoms\")\n",
    "root.geometry(\"400x400\")\n",
    "\n",
    "# Instructions label\n",
    "tk.Label(root, text=\"Select 6 symptoms:\", font=(\"Arial\", 12, \"bold\")).pack(pady=10)\n",
    "\n",
    "# Dropdowns for 6 symptoms\n",
    "symptom_vars = []\n",
    "dropdowns = []\n",
    "\n",
    "for i in range(6):\n",
    "    var = tk.StringVar()\n",
    "    symptom_vars.append(var)\n",
    "    \n",
    "    # Use the symptom_1 encoder class as options (assuming similar across all)\n",
    "    options = sorted(list(symptom_encoders[f'Symptom_{i+1}'].classes_))\n",
    "    var.set(options[0])  # default selection\n",
    "\n",
    "    lbl = tk.Label(root, text=f\"Symptom {i+1}:\")\n",
    "    lbl.pack()\n",
    "    dropdown = ttk.Combobox(root, textvariable=var, values=options, state=\"readonly\")\n",
    "    dropdown.pack(pady=5)\n",
    "    dropdowns.append(dropdown)\n",
    "\n",
    "# Prediction function\n",
    "def predict_disease():\n",
    "    encoded_input = []\n",
    "    try:\n",
    "        for i, var in enumerate(symptom_vars):\n",
    "            val = var.get()\n",
    "            encoder = symptom_encoders[f'Symptom_{i+1}']\n",
    "            encoded = encoder.transform([val])[0]\n",
    "            encoded_input.append(encoded)\n",
    "        \n",
    "        input_array = np.array(encoded_input).reshape(1, -1)\n",
    "        pred = model.predict(input_array)[0]\n",
    "        disease = label_encoder.inverse_transform([pred])[0]\n",
    "        \n",
    "        messagebox.showinfo(\"Prediction Result\", f\"🩺 Predicted Disease: {disease}\")\n",
    "    except Exception as e:\n",
    "        messagebox.showerror(\"Error\", f\"Prediction failed: {str(e)}\")\n",
    "\n",
    "# Predict button\n",
    "predict_btn = tk.Button(root, text=\"Predict Disease\", command=predict_disease, bg=\"green\", fg=\"white\", font=(\"Arial\", 12, \"bold\"))\n",
    "predict_btn.pack(pady=20)\n",
    "\n",
    "# Run the GUI loop\n",
    "root.mainloop()\n"
   ]
  },
  {
   "cell_type": "code",
   "execution_count": 10,
   "id": "d1456dbd-9eae-4f97-8835-0e559ef61a84",
   "metadata": {},
   "outputs": [],
   "source": [
    "import pickle\n",
    "\n",
    "# Assuming `model` is your trained model (e.g., RandomForestClassifier)\n",
    "model_filename = '1disease_model.pkl'\n",
    "\n",
    "# Save model to disk\n",
    "with open(model_filename, 'wb') as file:\n",
    "    pickle.dump(model, file)\n"
   ]
  },
  {
   "cell_type": "code",
   "execution_count": 12,
   "id": "55d3c130-c287-4e5e-80d4-254ee1d8b463",
   "metadata": {},
   "outputs": [],
   "source": [
    "import pandas as pd\n",
    "\n",
    "df = pd.read_csv(\"final_filled_10_symptoms.csv\")\n",
    "X = df[['Symptom_1', 'Symptom_2', 'Symptom_3', 'Symptom_4', 'Symptom_5', 'Symptom_6']]\n"
   ]
  },
  {
   "cell_type": "code",
   "execution_count": 13,
   "id": "2d189862-6fb5-43eb-a827-b346139d44e0",
   "metadata": {},
   "outputs": [],
   "source": [
    "columns = X.columns.tolist()"
   ]
  },
  {
   "cell_type": "code",
   "execution_count": 14,
   "id": "9a7e6c87-6589-4f22-ba40-a3ec367df2f2",
   "metadata": {},
   "outputs": [],
   "source": [
    "import pickle\n",
    "\n",
    "columns_filename = 'columns.pkl'\n",
    "with open(columns_filename, 'wb') as file:\n",
    "    pickle.dump(columns, file)\n"
   ]
  },
  {
   "cell_type": "code",
   "execution_count": null,
   "id": "16b2daa6-81d1-40bf-afe2-9d407ca872e9",
   "metadata": {},
   "outputs": [],
   "source": []
  }
 ],
 "metadata": {
  "kernelspec": {
   "display_name": "Python 3 (ipykernel)",
   "language": "python",
   "name": "python3"
  },
  "language_info": {
   "codemirror_mode": {
    "name": "ipython",
    "version": 3
   },
   "file_extension": ".py",
   "mimetype": "text/x-python",
   "name": "python",
   "nbconvert_exporter": "python",
   "pygments_lexer": "ipython3",
   "version": "3.11.7"
  }
 },
 "nbformat": 4,
 "nbformat_minor": 5
}
